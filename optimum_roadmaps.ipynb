{
  "nbformat": 4,
  "nbformat_minor": 0,
  "metadata": {
    "colab": {
      "name": "optimum-roadmaps.ipynb",
      "provenance": [],
      "collapsed_sections": [],
      "authorship_tag": "ABX9TyMiPnY3AqmtV2I7c/hNGs1R",
      "include_colab_link": true
    },
    "kernelspec": {
      "name": "python3",
      "display_name": "Python 3"
    }
  },
  "cells": [
    {
      "cell_type": "markdown",
      "metadata": {
        "id": "view-in-github",
        "colab_type": "text"
      },
      "source": [
        "<a href=\"https://colab.research.google.com/github/AlexChanin/ClickHouse/blob/master/optimum_roadmaps.ipynb\" target=\"_parent\"><img src=\"https://colab.research.google.com/assets/colab-badge.svg\" alt=\"Open In Colab\"/></a>"
      ]
    },
    {
      "cell_type": "markdown",
      "metadata": {
        "id": "Be948v4FRjCp"
      },
      "source": [
        "## 12-ая неделя"
      ]
    },
    {
      "cell_type": "markdown",
      "metadata": {
        "id": "f7VxknXTIDIk"
      },
      "source": [
        "### 15.03.2021 - Понедельник"
      ]
    },
    {
      "cell_type": "code",
      "metadata": {
        "id": "iZP-iVY7Hzae"
      },
      "source": [
        "# План работ на понедельник ( 15.03.2021 ) для Маньков Александр, Александров Александр, Савенко Артем\r\n",
        "  1) СПб, пр. Комендантский, 13к1 (СБЕР 9055/0800) - Назаренко\r\n",
        "  Вн.Перемещение:\r\n",
        "    Nautilus MX8600S (60023653 - YI95201248)\r\n",
        "    Nautilus MX8600S (60023654 - YI95201247)\r\n",
        "    Nautilus MX8600 (60003723 - YD95202840)"
      ],
      "execution_count": null,
      "outputs": []
    },
    {
      "cell_type": "markdown",
      "metadata": {
        "id": "zLH8OL2-L1QD"
      },
      "source": [
        "### 16.03.2021 - Вторник"
      ]
    },
    {
      "cell_type": "code",
      "metadata": {
        "id": "338qClE3L5Ne"
      },
      "source": [
        "# План работ на вторник ( 16.03.2021 ) для Гвоздович Максим, Савенко Артем, Юницын Илья\r\n",
        "1) к 11:00 ЛО, р-н. Гатч., г. Батово, 1 (Агрокомплекс Оредеж) - Суслова\r\n",
        "Демонтаж NCR 6634 (774406 - 13-46054138)\r\n",
        "! Захватить проф.лист. Доп.инфо по объекту в Батово: внутри помещения есть 4 ступени, потребуются доски."
      ],
      "execution_count": null,
      "outputs": []
    },
    {
      "cell_type": "code",
      "metadata": {
        "id": "6ZxUdMd2w4Ye"
      },
      "source": [
        "# План работ на вторник ( 16.03.2021 ) для Скачков Андрей, Могучий Михаил\r\n",
        "1) НО, рп Панковка, Улица Промышленная, д. 1 - Ильина Юлия +7 909 565-30-16\r\n",
        "NCR SelfServ 6622 (10036473 - 13-46768249)\r\n",
        "2) В.Новгород, ул. Орловская, 42к1 (Пятерочка)\r\n",
        "NCR SelfServ 6622 (10036473 - 13-46768249)\r\n",
        "3) СПб, пр. Александровской фермы, 29литВ (Первая металлобаза:Михаил Павлов конт.8(812)974-20-03 моб.8(901)374-20-03)\r\n",
        "Лист горячекатаный 750х1200 - 6шт. + обрезки."
      ],
      "execution_count": null,
      "outputs": []
    },
    {
      "cell_type": "markdown",
      "metadata": {
        "id": "W73oaE6mE4S0"
      },
      "source": [
        "### 17.03.2021 - Среда"
      ]
    },
    {
      "cell_type": "code",
      "metadata": {
        "id": "L-02SrOSFZ5l"
      },
      "source": [
        "# План работ на среду ( 17.03.2021 ) для Гвоздович Максим, Юницын Илья\r\n",
        "1) к 10:00 СПб, ул. Савушкина, 3 (СБЕР 9055/0525) - Шевчук\r\n",
        "Демонтаж Quantum CStand (10100969 - 0031120001764/0181140013167)\r\n",
        "2) ЛО, р-н Всев., п. Юкки, ш. Ленинградское, 22 (Пятерочка)\t- Щучкин\r\n",
        "Вн.Перемещение NCR 6622 (851988 - 13-46738792)\r\n",
        "Вн.Перемещение DSV-52C (851989 - 21130011105)\r\n",
        "3) СПб, пр. Лапинский, 7 (СТД Петрович) - Халилов\r\n",
        "Вн.Перемещение NCR 6622 (361943 - 13-46068154).\r\n",
        "\r\n",
        "# План работ на среду ( 17.03.2021 ) для Скачков Андрей, Могучий Михаил, Савенко Артем\r\n",
        "1) к 9:00 СПб, 3-я линия В.О., 34 (Сбер) - предварительно узнать у Сергея Васяновича или Михаила Святкина, как и что брать\r\n",
        "Загрузка офисной мебели (За 10-15 минут до подъезда позвонить Олегу +7 999 038-59-92. Он откроет ворота что бы заехать во двор)\r\n",
        "2) СПб, пр. Шафироский, 6 (офис) -  Выгрузка офисной медели \r\n",
        "3) ЛО, р-н Киров., гп Назия, пр. Школьный, 12 (СБЕР 9055/1079 10:00 - 17:30 (13:00 - 14:00)) - Егорова\r\n",
        "Демонтаж Nautilus MX8600S (60016892 - YH02203219)."
      ],
      "execution_count": null,
      "outputs": []
    },
    {
      "cell_type": "markdown",
      "metadata": {
        "id": "kuVftL9wHFMR"
      },
      "source": [
        "### 18.03.2021 - Четверг"
      ]
    },
    {
      "cell_type": "code",
      "metadata": {
        "id": "J7m8PvkkE6gh"
      },
      "source": [
        "СПб, ул. Киевская, 5литАЗ (склад Оптимум) - выгрузка\r\n",
        "Бланки доверенностей передать Андрею Кокареву\r\n",
        "! Просьба для Киевской оставить 2 офисных кресла, вешалку и тумбу(мал.стол примерно 100х50) и закинуть на Киевскую на следующий день."
      ],
      "execution_count": null,
      "outputs": []
    },
    {
      "cell_type": "markdown",
      "metadata": {
        "id": "YhsM5GPdHINZ"
      },
      "source": [
        "### 19.03.2021 - Пятница"
      ]
    },
    {
      "cell_type": "code",
      "metadata": {
        "id": "tfGBTAYHHKch"
      },
      "source": [
        ""
      ],
      "execution_count": null,
      "outputs": []
    }
  ]
}